{
 "cells": [
  {
   "cell_type": "code",
   "execution_count": 1,
   "metadata": {},
   "outputs": [],
   "source": [
    "from text_selector.widget import Widget\n",
    "from ipywidgets import HBox, Button, Label, VBox"
   ]
  },
  {
   "cell_type": "code",
   "execution_count": 6,
   "metadata": {},
   "outputs": [],
   "source": [
    "def callback(obj):\n",
    "#     print(obj)\n",
    "    with open('res.txt', 'w') as res:\n",
    "        print(obj['new'], file=res)\n",
    "\n",
    "txt = \"The human TCF-1 gene encodes a nuclear DNA-binding protein uniquely expressed in normal and neoplastic T-lineage lymphocytes .\"\n",
    "\n",
    "tags = [\n",
    "    'protein',\n",
    "    'DNA',\n",
    "    'cell_type',\n",
    "    'cell_line',\n",
    "    'RNA'\n",
    "]\n",
    "\n",
    "w1 = Widget(tags=tags, txt=txt, colors=[], callback=callback)\n",
    "w1.answer = [{'start': 3, 'end': 9, 'tag': 'protein'}, {'start': 15, 'end': 20, 'tag': 'DNA'}, {'start': 30, 'end': 38, 'tag': 'cell_type'}, {'start': 42, 'end': 50, 'tag': 'cell_line'}, {'start': 58, 'end': 67, 'tag': 'RNA'}]\n",
    "w2 = Widget(tags=tags, txt=txt, colors=[], callback=callback, emojify=True)\n",
    "w2.answer = None"
   ]
  },
  {
   "cell_type": "code",
   "execution_count": 7,
   "metadata": {},
   "outputs": [
    {
     "data": {
      "application/vnd.jupyter.widget-view+json": {
       "model_id": "ee0206ccab9546e684bfd049ac22daac",
       "version_major": 2,
       "version_minor": 0
      },
      "text/plain": [
       "VBox(children=(Widget(colors=['#ff0000', '#ff8000', '#ffff00', '#00ff00', '#00ff80', '#00ffff', '#0080ff', '#0…"
      ]
     },
     "metadata": {},
     "output_type": "display_data"
    }
   ],
   "source": [
    "VBox([w1, w2])"
   ]
  },
  {
   "cell_type": "code",
   "execution_count": 5,
   "metadata": {},
   "outputs": [
    {
     "data": {
      "text/plain": [
       "[{'start': 21, 'end': 27, 'tag': 'protein'}]"
      ]
     },
     "execution_count": 5,
     "metadata": {},
     "output_type": "execute_result"
    }
   ],
   "source": [
    "w1.answer"
   ]
  },
  {
   "cell_type": "code",
   "execution_count": null,
   "metadata": {},
   "outputs": [],
   "source": [
    "w2.res"
   ]
  },
  {
   "cell_type": "code",
   "execution_count": null,
   "metadata": {},
   "outputs": [],
   "source": [
    "w1.emojify = True\n",
    "w1"
   ]
  },
  {
   "cell_type": "code",
   "execution_count": null,
   "metadata": {},
   "outputs": [],
   "source": [
    "print(w1.res)\n",
    "print(w2.res)"
   ]
  },
  {
   "cell_type": "code",
   "execution_count": null,
   "metadata": {},
   "outputs": [],
   "source": [
    "w1"
   ]
  },
  {
   "cell_type": "code",
   "execution_count": null,
   "metadata": {},
   "outputs": [],
   "source": [
    "w1.dis"
   ]
  },
  {
   "cell_type": "code",
   "execution_count": null,
   "metadata": {},
   "outputs": [],
   "source": [
    "w1"
   ]
  },
  {
   "cell_type": "code",
   "execution_count": null,
   "metadata": {},
   "outputs": [],
   "source": []
  }
 ],
 "metadata": {
  "kernelspec": {
   "display_name": "Python 3 (ipykernel)",
   "language": "python",
   "name": "python3"
  },
  "language_info": {
   "codemirror_mode": {
    "name": "ipython",
    "version": 3
   },
   "file_extension": ".py",
   "mimetype": "text/x-python",
   "name": "python",
   "nbconvert_exporter": "python",
   "pygments_lexer": "ipython3",
   "version": "3.10.5"
  },
  "widgets": {
   "application/vnd.jupyter.widget-state+json": {
    "state": {
     "012b7ff2636e4ff2929afd8230a6b225": {
      "model_module": "@jupyter-widgets/controls",
      "model_module_version": "1.5.0",
      "model_name": "DescriptionStyleModel",
      "state": {
       "description_width": ""
      }
     },
     "02b7a355ee7445af818aa6a56f7ede0e": {
      "model_module": "@jupyter-widgets/base",
      "model_module_version": "1.2.0",
      "model_name": "LayoutModel",
      "state": {}
     },
     "2bddb62c7d014abe9a06da44227b9bc8": {
      "model_module": "@jupyter-widgets/controls",
      "model_module_version": "1.5.0",
      "model_name": "ButtonModel",
      "state": {
       "description": "Save",
       "layout": "IPY_MODEL_fc95a1be1ebc4a56bca855d00efc2169",
       "style": "IPY_MODEL_7c2c262a63f5492c8fe5a2e2c442ad07"
      }
     },
     "2d171063d6af4a87a8b00ff7c33f2fbf": {
      "model_module": "@jupyter-widgets/base",
      "model_module_version": "1.2.0",
      "model_name": "LayoutModel",
      "state": {}
     },
     "33a300b6e38e47ea9869bc8309162378": {
      "model_module": "@jupyter-widgets/controls",
      "model_module_version": "1.5.0",
      "model_name": "HBoxModel",
      "state": {
       "children": [
        "IPY_MODEL_8271b9901a88424c9c29da89bcdcc866",
        "IPY_MODEL_db7c1844ff3946e29b51d200ab72a49c",
        "IPY_MODEL_ea3105f5013a4240abc562f92119415d"
       ],
       "layout": "IPY_MODEL_9841d6098a844ed8a14e1d42a0264a56"
      }
     },
     "3de00db997a343c1964215bd8c43de37": {
      "model_module": "text_selector",
      "model_module_version": "^0.0.0",
      "model_name": "TSWidgetModel",
      "state": {
       "_model_module_version": "^0.0.0",
       "_view_module_version": "^0.0.0",
       "layout": "IPY_MODEL_873d27630ace4c19bc4a04968fe137fd",
       "res": [
        "aaa"
       ],
       "tags": [
        "protein",
        "DNA",
        "cell_type",
        "cell_line",
        "RNA"
       ],
       "txts": [
        "As detected by in vivo footprinting , priming markedly increases the activation-dependent engagement of the P0 and P1 NFAT-binding elements of the IL-4 promoter .",
        "Binding parameters of [ 3H ] pyrilamine binding were Kd = 5.53 nM and Bmax = 2 , 647 sites/cell .",
        "PDBu-treated HL-60 cells remained viable for 7 days and thereafter began to die via apoptosis , with a concomitant down-regulation of Bcl-xL .",
        "Human RAR alpha was expressed in H9 , U937 and THP-1 cells , but almost undetectable in CEM cells .",
        "No increase in TGF-beta mRNA was observed ."
       ]
      }
     },
     "56a8c82dbbd04f2bba722806c440b1ef": {
      "model_module": "@jupyter-widgets/controls",
      "model_module_version": "1.5.0",
      "model_name": "VBoxModel",
      "state": {
       "children": [
        "IPY_MODEL_9cb589e8535b402ab4d031a1b1b68537",
        "IPY_MODEL_62c09e2fbc894017ad2f897bdac69f5a"
       ],
       "layout": "IPY_MODEL_02b7a355ee7445af818aa6a56f7ede0e"
      }
     },
     "6016917868fe4cfca53920851c30bcb7": {
      "model_module": "@jupyter-widgets/controls",
      "model_module_version": "1.5.0",
      "model_name": "DescriptionStyleModel",
      "state": {
       "description_width": ""
      }
     },
     "62c09e2fbc894017ad2f897bdac69f5a": {
      "model_module": "text_selector",
      "model_module_version": "^0.0.0",
      "model_name": "TSWidgetModel",
      "state": {
       "_model_module_version": "^0.0.0",
       "_view_module_version": "^0.0.0",
       "layout": "IPY_MODEL_2d171063d6af4a87a8b00ff7c33f2fbf",
       "res": [
        "aaa"
       ],
       "tags": [
        "protein",
        "DNA",
        "cell_type",
        "cell_line",
        "RNA"
       ],
       "txts": [
        "As detected by in vivo footprinting , priming markedly increases the activation-dependent engagement of the P0 and P1 NFAT-binding elements of the IL-4 promoter .",
        "Binding parameters of [ 3H ] pyrilamine binding were Kd = 5.53 nM and Bmax = 2 , 647 sites/cell .",
        "PDBu-treated HL-60 cells remained viable for 7 days and thereafter began to die via apoptosis , with a concomitant down-regulation of Bcl-xL .",
        "Human RAR alpha was expressed in H9 , U937 and THP-1 cells , but almost undetectable in CEM cells .",
        "No increase in TGF-beta mRNA was observed ."
       ]
      }
     },
     "65e267fca04f48b2ae0463051495c272": {
      "model_module": "@jupyter-widgets/controls",
      "model_module_version": "1.5.0",
      "model_name": "LabelModel",
      "state": {
       "layout": "IPY_MODEL_ba06e045de7c49e99e82394a074f3c70",
       "style": "IPY_MODEL_012b7ff2636e4ff2929afd8230a6b225",
       "value": "Iteration#..."
      }
     },
     "6d20dd66e4c54515bd8630a4b5628255": {
      "model_module": "@jupyter-widgets/controls",
      "model_module_version": "1.5.0",
      "model_name": "VBoxModel",
      "state": {
       "children": [
        "IPY_MODEL_33a300b6e38e47ea9869bc8309162378",
        "IPY_MODEL_3de00db997a343c1964215bd8c43de37"
       ],
       "layout": "IPY_MODEL_827111bd3e5f4004be5c8cdae33ec8ac"
      }
     },
     "7c2c262a63f5492c8fe5a2e2c442ad07": {
      "model_module": "@jupyter-widgets/controls",
      "model_module_version": "1.5.0",
      "model_name": "ButtonStyleModel",
      "state": {}
     },
     "827111bd3e5f4004be5c8cdae33ec8ac": {
      "model_module": "@jupyter-widgets/base",
      "model_module_version": "1.2.0",
      "model_name": "LayoutModel",
      "state": {}
     },
     "8271b9901a88424c9c29da89bcdcc866": {
      "model_module": "@jupyter-widgets/controls",
      "model_module_version": "1.5.0",
      "model_name": "ButtonModel",
      "state": {
       "description": "Next Iteration",
       "icon": "clock-o",
       "layout": "IPY_MODEL_eb638749231647e494aa80cf28b0c35a",
       "style": "IPY_MODEL_fcbfcb7a62ff44f1b44b6d6fd38075a8"
      }
     },
     "873d27630ace4c19bc4a04968fe137fd": {
      "model_module": "@jupyter-widgets/base",
      "model_module_version": "1.2.0",
      "model_name": "LayoutModel",
      "state": {}
     },
     "87e6c275162b4a53bc940dba9c0044a5": {
      "model_module": "@jupyter-widgets/base",
      "model_module_version": "1.2.0",
      "model_name": "LayoutModel",
      "state": {}
     },
     "9841d6098a844ed8a14e1d42a0264a56": {
      "model_module": "@jupyter-widgets/base",
      "model_module_version": "1.2.0",
      "model_name": "LayoutModel",
      "state": {}
     },
     "9cb589e8535b402ab4d031a1b1b68537": {
      "model_module": "@jupyter-widgets/controls",
      "model_module_version": "1.5.0",
      "model_name": "HBoxModel",
      "state": {
       "children": [
        "IPY_MODEL_be788141dae8484bae65354f63c3c82b",
        "IPY_MODEL_65e267fca04f48b2ae0463051495c272",
        "IPY_MODEL_2bddb62c7d014abe9a06da44227b9bc8"
       ],
       "layout": "IPY_MODEL_87e6c275162b4a53bc940dba9c0044a5"
      }
     },
     "a42e2142f28a441bb37db5cc94ebaa24": {
      "model_module": "@jupyter-widgets/controls",
      "model_module_version": "1.5.0",
      "model_name": "ButtonStyleModel",
      "state": {}
     },
     "ab5d55e09f8c4e669ad89bd0cdaf2bfe": {
      "model_module": "@jupyter-widgets/controls",
      "model_module_version": "1.5.0",
      "model_name": "ButtonStyleModel",
      "state": {}
     },
     "ba06e045de7c49e99e82394a074f3c70": {
      "model_module": "@jupyter-widgets/base",
      "model_module_version": "1.2.0",
      "model_name": "LayoutModel",
      "state": {}
     },
     "bd4a12b7f207479297f136238950aba6": {
      "model_module": "@jupyter-widgets/base",
      "model_module_version": "1.2.0",
      "model_name": "LayoutModel",
      "state": {}
     },
     "be788141dae8484bae65354f63c3c82b": {
      "model_module": "@jupyter-widgets/controls",
      "model_module_version": "1.5.0",
      "model_name": "ButtonModel",
      "state": {
       "description": "Next Iteration",
       "icon": "clock-o",
       "layout": "IPY_MODEL_fd4f46c9ddcd4084a024a34ee6217894",
       "style": "IPY_MODEL_ab5d55e09f8c4e669ad89bd0cdaf2bfe"
      }
     },
     "d30506af0b0a48adbfef87387a9fc956": {
      "model_module": "@jupyter-widgets/base",
      "model_module_version": "1.2.0",
      "model_name": "LayoutModel",
      "state": {}
     },
     "db7c1844ff3946e29b51d200ab72a49c": {
      "model_module": "@jupyter-widgets/controls",
      "model_module_version": "1.5.0",
      "model_name": "LabelModel",
      "state": {
       "layout": "IPY_MODEL_bd4a12b7f207479297f136238950aba6",
       "style": "IPY_MODEL_6016917868fe4cfca53920851c30bcb7",
       "value": "Iteration#..."
      }
     },
     "ea3105f5013a4240abc562f92119415d": {
      "model_module": "@jupyter-widgets/controls",
      "model_module_version": "1.5.0",
      "model_name": "ButtonModel",
      "state": {
       "description": "Save",
       "layout": "IPY_MODEL_d30506af0b0a48adbfef87387a9fc956",
       "style": "IPY_MODEL_a42e2142f28a441bb37db5cc94ebaa24"
      }
     },
     "eb638749231647e494aa80cf28b0c35a": {
      "model_module": "@jupyter-widgets/base",
      "model_module_version": "1.2.0",
      "model_name": "LayoutModel",
      "state": {}
     },
     "fc95a1be1ebc4a56bca855d00efc2169": {
      "model_module": "@jupyter-widgets/base",
      "model_module_version": "1.2.0",
      "model_name": "LayoutModel",
      "state": {}
     },
     "fcbfcb7a62ff44f1b44b6d6fd38075a8": {
      "model_module": "@jupyter-widgets/controls",
      "model_module_version": "1.5.0",
      "model_name": "ButtonStyleModel",
      "state": {}
     },
     "fd4f46c9ddcd4084a024a34ee6217894": {
      "model_module": "@jupyter-widgets/base",
      "model_module_version": "1.2.0",
      "model_name": "LayoutModel",
      "state": {}
     }
    },
    "version_major": 2,
    "version_minor": 0
   }
  }
 },
 "nbformat": 4,
 "nbformat_minor": 4
}
